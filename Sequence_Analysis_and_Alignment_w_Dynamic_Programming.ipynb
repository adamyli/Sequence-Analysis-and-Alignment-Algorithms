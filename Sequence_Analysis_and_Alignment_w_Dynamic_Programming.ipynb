{
  "nbformat": 4,
  "nbformat_minor": 0,
  "metadata": {
    "colab": {
      "name": "Sequence Analysis and Alignment w/ Dynamic Programming.ipynb",
      "provenance": [],
      "collapsed_sections": [
        "A-ukzQ5Wc9Ob",
        "92ryz0pRs_HX"
      ]
    },
    "kernelspec": {
      "name": "python3",
      "display_name": "Python 3"
    }
  },
  "cells": [
    {
      "cell_type": "code",
      "metadata": {
        "id": "7PoDJNwTP5Hy",
        "colab_type": "code",
        "outputId": "a6157038-f9e1-4161-c318-38f6a05b34c9",
        "colab": {
          "resources": {
            "http://localhost:8080/nbextensions/google.colab/files.js": {
              "data": "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",
              "ok": true,
              "headers": [
                [
                  "content-type",
                  "application/javascript"
                ]
              ],
              "status": 200,
              "status_text": ""
            }
          },
          "base_uri": "https://localhost:8080/",
          "height": 143
        }
      },
      "source": [
        "from google.colab import files\n",
        "import pickle\n",
        "from IPython.display import Image\n",
        "uploaded = files.upload()"
      ],
      "execution_count": 0,
      "outputs": [
        {
          "output_type": "display_data",
          "data": {
            "text/html": [
              "\n",
              "     <input type=\"file\" id=\"files-f5822676-83b0-4b48-850c-d290cc638294\" name=\"files[]\" multiple disabled />\n",
              "     <output id=\"result-f5822676-83b0-4b48-850c-d290cc638294\">\n",
              "      Upload widget is only available when the cell has been executed in the\n",
              "      current browser session. Please rerun this cell to enable.\n",
              "      </output>\n",
              "      <script src=\"/nbextensions/google.colab/files.js\"></script> "
            ],
            "text/plain": [
              "<IPython.core.display.HTML object>"
            ]
          },
          "metadata": {
            "tags": []
          }
        },
        {
          "output_type": "stream",
          "text": [
            "Saving blosum62.pkl to blosum62.pkl\n",
            "Saving identity.pkl to identity.pkl\n",
            "Saving pam250.pkl to pam250.pkl\n"
          ],
          "name": "stdout"
        }
      ]
    },
    {
      "cell_type": "code",
      "metadata": {
        "id": "GbjLk_ubgNM5",
        "colab_type": "code",
        "colab": {}
      },
      "source": [
        "target = open('pam250.pkl','rb')\n",
        "substitution_matrix =  pickle.load(target)"
      ],
      "execution_count": 0,
      "outputs": []
    },
    {
      "cell_type": "code",
      "metadata": {
        "id": "v5WXI2kxl59K",
        "colab_type": "code",
        "colab": {}
      },
      "source": [
        "target = open('blosum62.pkl','rb')\n",
        "substitution_matrix =  pickle.load(target)"
      ],
      "execution_count": 0,
      "outputs": []
    },
    {
      "cell_type": "code",
      "metadata": {
        "id": "xRgfTnYMtjEH",
        "colab_type": "code",
        "colab": {}
      },
      "source": [
        "#Sample Sequences\n",
        "\n",
        "# seq1 = 'YICSFADCCF' #side column\n",
        "# seq2 = 'FPCKEECA' #top row\n",
        "# gap_penalty = 6\n",
        "\n",
        "seq1= 'ILHFQDLKFBZTY'\n",
        "seq2= 'YGEKHLVQRERPRCWGSMMDCCAGVM'\n",
        "gap_penalty = 8\n"
      ],
      "execution_count": 0,
      "outputs": []
    },
    {
      "cell_type": "markdown",
      "metadata": {
        "id": "A-ukzQ5Wc9Ob",
        "colab_type": "text"
      },
      "source": [
        "#Global"
      ]
    },
    {
      "cell_type": "code",
      "metadata": {
        "id": "AAjQU4odYmul",
        "colab_type": "code",
        "colab": {}
      },
      "source": [
        "M = len(seq1)+1 #side column\n",
        "N = len(seq2)+1 #top row\n",
        "score_matrix = []\n",
        "for i in range(M):\n",
        "    row = []\n",
        "    score_matrix.append(row)\n",
        "    for j in range(N):\n",
        "        row.append(0)\n",
        "\n",
        "#top row\n",
        "init_gap_counter = 0\n",
        "score_matrix[0][0] = 0\n",
        "for j in range(1,N):\n",
        "  init_gap_counter -= gap_penalty\n",
        "  score_matrix[0][j] = init_gap_counter\n",
        "\n",
        "#Left Column\n",
        "init_gap_counter = 0\n",
        "for i in range(1,M):\n",
        "  init_gap_counter -= gap_penalty\n",
        "  score_matrix[i][0] = init_gap_counter\n",
        "\n",
        "def dp_function(row, column):\n",
        "  E = substitution_matrix[seq1[i-1]][seq2[j-1]]\n",
        "  diagonal = score_matrix[row-1][column-1] + E\n",
        "  horizontal = score_matrix[row][column-1] - gap_penalty\n",
        "  vertical = score_matrix[row-1][column] - gap_penalty\n",
        "  score_list = [diagonal, vertical, horizontal]\n",
        "\n",
        "  return max(score_list)\n",
        "    \n",
        "for i in range(1,M):\n",
        "    for j in range(1,N):\n",
        "        score_matrix[i][j] = dp_function(i,j)"
      ],
      "execution_count": 0,
      "outputs": []
    },
    {
      "cell_type": "code",
      "metadata": {
        "id": "Z89lgCaAScor",
        "colab_type": "code",
        "colab": {}
      },
      "source": [
        "score_matrix"
      ],
      "execution_count": 0,
      "outputs": []
    },
    {
      "cell_type": "code",
      "metadata": {
        "id": "LBIsNwgiSh8j",
        "colab_type": "code",
        "colab": {}
      },
      "source": [
        "i = M-1\n",
        "j = N-1\n",
        "aligned_seq1 = ''\n",
        "aligned_seq2 = ''\n",
        "\n",
        "while i != 0 or j != 0:\n",
        "  if i == 0:\n",
        "    j = j-1\n",
        "    aligned_seq1 += '-'\n",
        "    aligned_seq2 += seq2[j]\n",
        "    break\n",
        "\n",
        "  elif j ==0:\n",
        "    i = i-1\n",
        "    aligned_seq1 += seq1[i]\n",
        "    aligned_seq2 += '-'\n",
        "    break\n",
        "\n",
        "  cur_score = score_matrix[i][j]\n",
        "  E = substitution_matrix[seq1[i-1]][seq2[j-1]]\n",
        "  diag_score = score_matrix[i-1][j-1]\n",
        "  hori_score = score_matrix[i][j-1]\n",
        "  vert_score = score_matrix[i-1][j]\n",
        "\n",
        "  if vert_score - gap_penalty == cur_score:\n",
        "    aligned_seq1 += seq1[i-1]\n",
        "    aligned_seq2 += '-'\n",
        "    i = i-1\n",
        "    j = j\n",
        "\n",
        "  elif diag_score + E == cur_score:\n",
        "    aligned_seq1 += seq1[i-1]\n",
        "    aligned_seq2 += seq2[j-1]\n",
        "    i = i-1\n",
        "    j = j-1\n",
        "\n",
        "  elif hori_score - gap_penalty == cur_score:\n",
        "    aligned_seq1 += '-'\n",
        "    aligned_seq2 += seq2[j-1]\n",
        "    i = i\n",
        "    j = j-1"
      ],
      "execution_count": 0,
      "outputs": []
    },
    {
      "cell_type": "code",
      "metadata": {
        "id": "v02xAjwRUnQK",
        "colab_type": "code",
        "outputId": "8ed2b2c2-0c3f-4cb8-9854-a0d9d61003f5",
        "colab": {
          "base_uri": "https://localhost:8080/",
          "height": 105
        }
      },
      "source": [
        "aligned_seq1 = aligned_seq1[::-1] \n",
        "aligned_seq2 = aligned_seq2[::-1]\n",
        "\n",
        "if i > j:\n",
        "  end_gap_size = i - j \n",
        "  pl = ''\n",
        "  for x in range(end_gap_size):\n",
        "    pl += '-'\n",
        "  aligned_seq1 = seq1[0:end_gap_size] + aligned_seq1\n",
        "  aligned_seq2 = pl + aligned_seq2\n",
        "\n",
        "elif j > i:\n",
        "  end_gap_size = j - i\n",
        "  pl = ''\n",
        "  for x in range(end_gap_size):\n",
        "    pl += '-'\n",
        "  aligned_seq1 = pl + aligned_seq1\n",
        "  aligned_seq2 = seq2[0:end_gap_size] + aligned_seq2\n",
        "\n",
        "align_score =  score_matrix[M-1][N-1]      \n",
        "alignment = (aligned_seq1, aligned_seq2, align_score)"
      ],
      "execution_count": 0,
      "outputs": [
        {
          "output_type": "stream",
          "text": [
            "-----KWMQ-CC-Q--R-L---T----\n",
            "     |     |    |     |    \n",
            "BQHSZKTFZVLCKRDHRGYDRGTSMAY\n",
            "\n",
            "Score = -10\n"
          ],
          "name": "stdout"
        }
      ]
    },
    {
      "cell_type": "markdown",
      "metadata": {
        "id": "-p7GPew3QCSV",
        "colab_type": "text"
      },
      "source": [
        "#Semiglobal"
      ]
    },
    {
      "cell_type": "code",
      "metadata": {
        "id": "lSaPuNyIV2Yi",
        "colab_type": "code",
        "colab": {}
      },
      "source": [
        "M = len(seq1)+1 #side column\n",
        "N = len(seq2)+1 #top row\n",
        "score_matrix = []\n",
        "for i in range(M):\n",
        "    row = []\n",
        "    score_matrix.append(row)\n",
        "    for j in range(N):\n",
        "        row.append(0)\n",
        "\n",
        "\n",
        "def dp_function(row, column):\n",
        "  E = substitution_matrix[seq1[i-1]][seq2[j-1]]\n",
        "  diagonal = score_matrix[row-1][column-1] + E\n",
        "  horizontal = score_matrix[row][column-1] - gap_penalty\n",
        "  vertical = score_matrix[row-1][column] - gap_penalty\n",
        "  score_list = [diagonal, vertical, horizontal]\n",
        "\n",
        "  return max(score_list)\n",
        "    \n",
        "for i in range(1,M):\n",
        "    for j in range(1,N):\n",
        "        score_matrix[i][j] = dp_function(i,j)"
      ],
      "execution_count": 0,
      "outputs": []
    },
    {
      "cell_type": "code",
      "metadata": {
        "id": "q6z476RdTWnA",
        "colab_type": "code",
        "outputId": "a74d5453-5a3f-4100-b12a-4ac79825f403",
        "colab": {
          "base_uri": "https://localhost:8080/",
          "height": 247
        }
      },
      "source": [
        "score_matrix"
      ],
      "execution_count": 0,
      "outputs": [
        {
          "output_type": "execute_result",
          "data": {
            "text/plain": [
              "[[0, 0, 0, 0, 0, 0, 0, 0, 0, 0, 0, 0, 0, 0, 0, 0, 0],\n",
              " [0, -1, -1, -2, -2, -2, -3, -2, -2, -2, -2, -2, -3, -2, -5, -2, 6],\n",
              " [0, 0, 1, 0, 1, 1, -1, -7, -6, 1, 1, 0, 2, -2, -7, -2, -3],\n",
              " [0, -2, -2, -1, -3, -2, -3, -2, -8, -8, -2, -2, -4, 0, -8, -10, 2],\n",
              " [0, 1, -2, -2, -1, -4, -3, -8, -7, -9, -9, -3, -3, -4, -3, -9, -7],\n",
              " [0, -6, -4, -5, -8, -6, -11, -3, -8, -12, -16, -12, -10, -6, -12, -10, -13],\n",
              " [0, 0, -4, -3, -2, -5, -5, -12, -7, -5, -9, -14, -8, -9, -11, -9, -13],\n",
              " [0, 0, 3, -2, 0, 0, -6, -9, -16, -5, -2, -8, -11, -6, -14, -8, -11],\n",
              " [0, -2, 1, 5, -2, -1, -3, -10, -13, -14, -6, -2, -9, -9, -10, -15, -8],\n",
              " [0, -4, -7, -1, 0, -7, -6, 4, -3, -12, -15, -10, -8, -11, -13, -15, -15],\n",
              " [0, 0, 0, -4, 2, 1, -8, -5, 0, -2, -10, -14, -8, -5, -14, -11, -16],\n",
              " [0, 0, 4, 3, -1, 3, 0, -9, -9, 1, 0, -9, -12, -5, -10, -12, -12],\n",
              " [0, 0, 3, 6, 6, 1, 2, -4, -13, -7, 4, 1, -6, -10, -10, -7, -14]]"
            ]
          },
          "metadata": {
            "tags": []
          },
          "execution_count": 157
        }
      ]
    },
    {
      "cell_type": "code",
      "metadata": {
        "id": "Se_Q98BRhclp",
        "colab_type": "code",
        "outputId": "4bd7a7f1-4c0f-40bc-a792-10dad44659b3",
        "colab": {
          "base_uri": "https://localhost:8080/",
          "height": 34
        }
      },
      "source": [
        "i = M-1\n",
        "j = N-1\n",
        "aligned_seq1 = ''\n",
        "aligned_seq2 = ''\n",
        "\n",
        "last_row = score_matrix[-1][:]\n",
        "last_column = []\n",
        "for x in range(M):\n",
        "  last_column.append(score_matrix[x][-1])\n",
        "\n",
        "if max(last_column) == max(last_row):\n",
        "\n",
        "  column_indices = []\n",
        "  for z in range(len(last_row)):\n",
        "    if max(last_column) == last_row[z]:\n",
        "      column_indices.append(z)\n",
        "  column_indices.append(N-1)\n",
        "  j = max(column_indices)\n",
        "  \n",
        "  row_indices = []\n",
        "  for z in range(len(last_column)):\n",
        "    if  max(last_column) == score_matrix[z][-1]:\n",
        "      row_indices.append(z)\n",
        "  i = min(row_indices)\n",
        "\n",
        "  number_of_gaps = len(seq1)-i\n",
        "\n",
        "  if number_of_gaps == 0:\n",
        "    i = i\n",
        "    j = j\n",
        "  else:\n",
        "    aligned_seq1 += seq1[-number_of_gaps:]\n",
        "    for gap_number in range(number_of_gaps):\n",
        "      aligned_seq2 += '-'\n",
        "  align_score = max(last_column)\n",
        "\n",
        "\n",
        "elif max(last_row) > max(last_column):\n",
        "  i = M-1\n",
        "  dupe_indices = []\n",
        "  for z in range(len(last_row)):\n",
        "    if last_row[z] == max(last_row):\n",
        "      dupe_indices.append(z)\n",
        "  \n",
        "  j = max(dupe_indices)\n",
        "\n",
        "  number_of_gaps = len(seq2)-j\n",
        "  aligned_seq2 += seq2[-number_of_gaps:]\n",
        "  for gap_number in range(number_of_gaps):\n",
        "    aligned_seq1 += '-'\n",
        "  align_score = max(last_row)\n",
        "\n",
        "    \n",
        "elif max(last_column) > max(last_row):\n",
        "  i = last_column.index(max(last_column))\n",
        "  j = N-1\n",
        "\n",
        "  number_of_gaps = len(seq1)-i\n",
        "  aligned_seq1 += seq1[-number_of_gaps:]\n",
        "  for gap_number in range(number_of_gaps):\n",
        "    aligned_seq2 += '-'\n",
        "  align_score = max(last_column)\n",
        "\n",
        "aligned_seq1 = aligned_seq1[::-1]\n",
        "aligned_seq2 = aligned_seq2[::-1]\n",
        "\n",
        "while i != 0 and j != 0:\n",
        "  cur_score = score_matrix[i][j]\n",
        "  E = substitution_matrix[seq1[i-1]][seq2[j-1]]\n",
        "\n",
        "  diag_score = score_matrix[i-1][j-1]\n",
        "  hori_score = score_matrix[i][j-1]\n",
        "  vert_score = score_matrix[i-1][j]\n",
        "  if vert_score - gap_penalty == cur_score:\n",
        "    aligned_seq1 += seq1[i-1]\n",
        "    aligned_seq2 += '-'\n",
        "    i = i-1\n",
        "    j = j\n",
        "\n",
        "  elif diag_score + E == cur_score:\n",
        "    aligned_seq1 += seq1[i-1]\n",
        "    aligned_seq2 += seq2[j-1]\n",
        "    i = i-1\n",
        "    j = j-1\n",
        "\n",
        "  elif abs(cur_score - hori_score) == gap_penalty:\n",
        "    aligned_seq1 += '-'\n",
        "    aligned_seq2 += seq2[j-1]\n",
        "    i = i\n",
        "    j = j-1"
      ],
      "execution_count": 0,
      "outputs": [
        {
          "output_type": "stream",
          "text": [
            "1\n"
          ],
          "name": "stdout"
        }
      ]
    },
    {
      "cell_type": "code",
      "metadata": {
        "id": "Q7LKXh-AZCD-",
        "colab_type": "code",
        "outputId": "aa7e3c56-8488-4eac-ee52-2c714bd97f34",
        "colab": {
          "base_uri": "https://localhost:8080/",
          "height": 105
        }
      },
      "source": [
        "aligned_seq1 = aligned_seq1[::-1] \n",
        "aligned_seq2 = aligned_seq2[::-1]\n",
        "\n",
        "AS1_gap_count = 0\n",
        "for z in aligned_seq1:\n",
        "  if z != '-':\n",
        "    AS1_gap_count += 1\n",
        "\n",
        "AS2_gap_count = 0\n",
        "for z in aligned_seq2:\n",
        "  if z != '-':\n",
        "    AS2_gap_count += 1\n",
        "\n",
        "if AS1_gap_count == 0:\n",
        "  aligned_seq1 = seq1 + aligned_seq1\n",
        "  gap_string = ''\n",
        "  for g in range(len(seq1)):\n",
        "    gap_string += '-'\n",
        "  aligned_seq2 = gap_string + aligned_seq2\n",
        " \n",
        "\n",
        "elif AS2_gap_count == 0:\n",
        "  aligned_seq2 = seq2 + aligned_seq2\n",
        "  gap_string = ''\n",
        "  for g in range(len(seq2)):\n",
        "    gap_string += '-'\n",
        "  aligned_seq1 = gap_string + aligned_seq1\n",
        "\n",
        "else:\n",
        "  if i > j:\n",
        "    end_gap_size = i - j \n",
        "    pl = ''\n",
        "    for x in range(end_gap_size):\n",
        "      pl += '-'\n",
        "    aligned_seq1 = seq1[0:end_gap_size] + aligned_seq1\n",
        "    aligned_seq2 = pl + aligned_seq2\n",
        "\n",
        "  elif j > i:\n",
        "    end_gap_size = j - i\n",
        "    pl = ''\n",
        "    for x in range(end_gap_size):\n",
        "      pl += '-'\n",
        "    aligned_seq1 = pl + aligned_seq1\n",
        "    aligned_seq2 = seq2[0:end_gap_size] + aligned_seq2\n",
        "\n",
        "align_score =  align_score       \n",
        "alignment = (aligned_seq1, aligned_seq2, align_score)"
      ],
      "execution_count": 0,
      "outputs": [
        {
          "output_type": "stream",
          "text": [
            "---------------MDLPWDZRFQQZ\n",
            "               |           \n",
            "AQHZBGYYBENDHCEM-----------\n",
            "\n",
            "Score = 6\n"
          ],
          "name": "stdout"
        }
      ]
    },
    {
      "cell_type": "markdown",
      "metadata": {
        "id": "92ryz0pRs_HX",
        "colab_type": "text"
      },
      "source": [
        "# Local"
      ]
    },
    {
      "cell_type": "code",
      "metadata": {
        "id": "w5Kl6HDawrqx",
        "colab_type": "code",
        "colab": {}
      },
      "source": [
        "M = len(seq1)+1 #side column\n",
        "N = len(seq2)+1 #top row\n",
        "score_matrix = []\n",
        "for i in range(M):\n",
        "    row = []\n",
        "    score_matrix.append(row)\n",
        "    for j in range(N):\n",
        "        row.append(0)\n",
        "\n",
        "\n",
        "def dp_function(row, column):\n",
        "  E = substitution_matrix[seq1[i-1]][seq2[j-1]]\n",
        "  diagonal = score_matrix[row-1][column-1] + E\n",
        "  horizontal = score_matrix[row][column-1] - gap_penalty\n",
        "  vertical = score_matrix[row-1][column] - gap_penalty\n",
        "  score_list = [diagonal, vertical, horizontal]\n",
        "  if max(score_list) >= 0:\n",
        "    return max(score_list)\n",
        "  elif max(score_list)<0:\n",
        "    return 0\n",
        "    \n",
        "for i in range(1,M):\n",
        "    for j in range(1,N):\n",
        "        score_matrix[i][j] = dp_function(i,j)"
      ],
      "execution_count": 0,
      "outputs": []
    },
    {
      "cell_type": "code",
      "metadata": {
        "id": "00JfkKedtkzY",
        "colab_type": "code",
        "colab": {}
      },
      "source": [
        "cur_max = 0\n",
        "for x in range(1,M):\n",
        "  if max(score_matrix[x]) > cur_max:\n",
        "    i = x\n",
        "    j = score_matrix[x].index(max(score_matrix[x]))\n",
        "    cur_max = max(score_matrix[x])\n",
        "align_score = cur_max\n",
        "\n",
        "max_rows = []\n",
        "for z in range(len(score_matrix)):\n",
        "  if align_score in score_matrix[z]:\n",
        "    max_rows.append(z)\n",
        "\n",
        "max_row_indices = []\n",
        "for p in max_rows:\n",
        "  for t in range(len(score_matrix[p])):\n",
        "    if score_matrix[p][t] == align_score:\n",
        "      max_row_indices.append(t)\n",
        "j = max(max_row_indices)\n",
        "\n",
        "min_column_indices = []\n",
        "for d in range(len(score_matrix)):\n",
        "   if score_matrix[d][j] == align_score:\n",
        "     min_column_indices.append(d)\n",
        "i = min(min_column_indices)\n",
        "\n",
        "\n",
        "aligned_seq1 = ''\n",
        "aligned_seq2 = ''\n",
        "\n",
        "while i != 0 or j != 0:\n",
        "  cur_score = score_matrix[i][j]\n",
        "  E = substitution_matrix[seq1[i-1]][seq2[j-1]]\n",
        "\n",
        "  diag_score = score_matrix[i-1][j-1]\n",
        "  hori_score = score_matrix[i][j-1]\n",
        "  vert_score = score_matrix[i-1][j]\n",
        "  if diag_score + E == cur_score:\n",
        "    aligned_seq1 += seq1[i-1]\n",
        "    aligned_seq2 += seq2[j-1]\n",
        "    i = i-1\n",
        "    j = j-1\n",
        "\n",
        "  elif vert_score - gap_penalty == cur_score:\n",
        "    aligned_seq1 += seq1[i-1]\n",
        "    aligned_seq2 += '-'\n",
        "    i = i-1\n",
        "    j = j\n",
        "\n",
        "  elif abs(cur_score - hori_score) == gap_penalty:\n",
        "    aligned_seq1 += '-'\n",
        "    aligned_seq2 += seq2[j-1]\n",
        "    i = i\n",
        "    j = j-1\n",
        "\n",
        "  else:\n",
        "    break\n",
        "\n"
      ],
      "execution_count": 0,
      "outputs": []
    },
    {
      "cell_type": "code",
      "metadata": {
        "id": "-6P3ogYAYowR",
        "colab_type": "code",
        "outputId": "20914244-d304-4ded-8705-68d3489a8ead",
        "colab": {
          "base_uri": "https://localhost:8080/",
          "height": 105
        }
      },
      "source": [
        "aligned_seq1 = aligned_seq1[::-1]  \n",
        "aligned_seq2 = aligned_seq2[::-1]  \n",
        "align_score =  align_score       \n",
        "alignment = (aligned_seq1, aligned_seq2, align_score)"
      ],
      "execution_count": 0,
      "outputs": [
        {
          "output_type": "stream",
          "text": [
            "FBZTY\n",
            "     \n",
            "YGEKH\n",
            "\n",
            "Score = 10\n"
          ],
          "name": "stdout"
        }
      ]
    }
  ]
}